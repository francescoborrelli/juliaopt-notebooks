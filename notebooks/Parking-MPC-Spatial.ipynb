{
 "cells": [
  {
   "cell_type": "markdown",
   "metadata": {},
   "source": [
    "## Parking Controller via MPC with Obstacles"
   ]
  },
  {
   "cell_type": "markdown",
   "metadata": {},
   "source": [
    "###System dynamics:\n",
    "$z = [x,y,\\phi]$, $u = [d_s, R, \\beta]$\n",
    "$d_s$ is the traveled staring distance,\n",
    "$R$ is teh runing radius\n",
    "$\\beta$ is the traveled angle with turning rradius $R$\n"
   ]
  },
  {
   "cell_type": "code",
   "execution_count": 35,
   "metadata": {
    "collapsed": false
   },
   "outputs": [
    {
     "data": {
      "text/plain": [
       "solveMPC (generic function with 1 method)"
      ]
     },
     "execution_count": 35,
     "metadata": {},
     "output_type": "execute_result"
    }
   ],
   "source": [
    "#Pkg.add(\"JuMP\"); Pkg.add(\"Ipopt\"); Pkg.add(\"Gadfly\"); Pkg.add(\"Interact\")\n",
    "#Pkg.checkout(\"JuMP\") # need latest master for matrices\n",
    "using JuMP, Ipopt\n",
    "using PyPlot\n",
    "#using ODE\n",
    "using PyCall\n",
    "\n",
    "function solveMPC(l,w,n,m,T,z0,zT,zmin,zmax,umin,umax,dt,obs,eps)\n",
    "     mpc = Model(solver=IpoptSolver(print_level=3))\n",
    "    @defVar(mpc,  zmin[i] <= z[i=1:n,t=0:T] <= zmax[i])\n",
    "    @defVar(mpc, -umax[i] <= u[i=1:m,t=0:T-1] <= umax[i])\n",
    "    # Cost\n",
    "    @setNLObjective(mpc, Min,\n",
    "    sum{u[1,t]^2+(u[3,t]/(u[2,t]+eps))^2,t=0:T-1})\n",
    "    \n",
    "    # Link state and control across the horizon\n",
    "    for t = 0:T-1        \n",
    "        @addNLConstraint(mpc, z[1,t+1] == z[1,t] + u[1,t]*cos(z[3,t])-u[2,t]*sin(z[3,t])+u[2,t]*sin(z[3,t]+u[3,t]))\n",
    "        @addNLConstraint(mpc, z[2,t+1] == z[2,t] + u[1,t]*sin(z[3,t])+u[2,t]*cos(z[3,t])-u[2,t]*cos(z[3,t]+u[3,t]))\n",
    "        @addNLConstraint(mpc, z[3,t+1] == z[3,t] + u[3,t])\n",
    "    end\n",
    "\n",
    "    for t = 0:T-1 \n",
    "        @addConstraint(mpc, u[2,t] >= umin[2])\n",
    "    end\n",
    "    # Radius constraint (it is an OR)\n",
    "    if 1<0\n",
    "        @defVar(mpc, lambda[i=1:2,t=0:T-1] >= 0)\n",
    "        for t = 0:T-1 \n",
    "            @addNLConstraint(mpc, lambda[1,t]*(u[2,t]-umin[2])+lambda[2,t]*(-u[2,t]-umin[2]) >=0)\n",
    "            @addConstraint(mpc, lambda[1,t]+lambda[2,t] == 1)\n",
    "        end\n",
    "    end\n",
    "\n",
    "    # Obstacle avoidance constraints -- NOT COMPLETED\n",
    "\n",
    "    # Initial conditions\n",
    "    @addConstraint(mpc, z[:,0] .== z0)\n",
    "    # Final state\n",
    "    @addConstraint(mpc, z[:,T] .== zT)\n",
    "    # Solve the NLP\n",
    "    solve(mpc)\n",
    "    # Return the control plan\n",
    "    # return getValue(u[:,0])\n",
    "    #return getValue(u[:,0]), getValue(z[:,1])\n",
    "    return getValue(u), getValue(z)\n",
    "end"
   ]
  },
  {
   "cell_type": "code",
   "execution_count": 19,
   "metadata": {
    "collapsed": false
   },
   "outputs": [
    {
     "data": {
      "text/plain": [
       "simulate_car_MPC (generic function with 1 method)"
      ]
     },
     "execution_count": 19,
     "metadata": {},
     "output_type": "execute_result"
    }
   ],
   "source": [
    "\n"
   ]
  },
  {
   "cell_type": "markdown",
   "metadata": {},
   "source": [
    "### Run Simulations"
   ]
  },
  {
   "cell_type": "code",
   "execution_count": 37,
   "metadata": {
    "collapsed": false
   },
   "outputs": [
    {
     "name": "stdout",
     "output_type": "stream",
     "text": [
      "6.003619377426763"
     ]
    },
    {
     "data": {
      "text/plain": [
       "(u: 2 dimensions:\n",
       "[1,:]\n",
       "  [1,0] = 4.980366093937434e-5\n",
       "  [1,1] = -8.033752155876962e-5\n",
       "  [1,2] = -3.3827197644755054e-5\n",
       "  [1,3] = -5.6693852557877723e-5\n",
       "  [1,4] = -6.140311827759966e-5\n",
       "[2,:]\n",
       "  [2,0] = 22.199847950575478\n",
       "  [2,1] = 99.99994783361386\n",
       "  [2,2] = 24.831547945169973\n",
       "  [2,3] = 99.99993119513572\n",
       "  [2,4] = 22.042509736187508\n",
       "[3,:]\n",
       "  [3,0] = 1.2405035203858445\n",
       "  [3,1] = -0.40438601872884844\n",
       "  [3,2] = 1.5430442860453744\n",
       "  [3,3] = -0.3744769724955687\n",
       "  [3,4] = 1.1369078383829914\n",
       ",z: 2 dimensions:\n",
       "[1,:]\n",
       "  [1,0] = -1.0\n",
       "  [1,1] = 19.999938721437097\n",
       "  [1,2] = -0.3902097194806473\n",
       "  [1,3] = -1.6656975009022073\n",
       "  [1,4] = 19.999978340248028\n",
       "  [1,5] = 0.0\n",
       "[2,:]\n",
       "  [2,0] = 5.0\n",
       "  [2,1] = 19.999992780310308\n",
       "  [2,2] = -14.602949354108352\n",
       "  [2,3] = 19.999987719910113\n",
       "  [2,4] = -10.275735655270427\n",
       "  [2,5] = 2.5\n",
       "[3,:]\n",
       "  [3,0] = -2.8186096220332553e-34\n",
       "  [3,1] = 1.2405035203858445\n",
       "  [3,2] = 0.8361175016569962\n",
       "  [3,3] = 2.3791617877023707\n",
       "  [3,4] = 2.0046848152068018\n",
       "  [3,5] = 3.141592653589793\n",
       ")"
      ]
     },
     "execution_count": 37,
     "metadata": {},
     "output_type": "execute_result"
    }
   ],
   "source": [
    "#Car Lengths to be fixed later\n",
    "n=3\n",
    "m=3\n",
    "L=5-1-1.2\n",
    "delta_max=25*pi/180\n",
    "width=0.93\n",
    "eps=0.001\n",
    "\n",
    "z0 = [-1;5;0]  \n",
    "zT = [0;2.5;pi]  \n",
    "obs=[-3.5;3.5;3]\n",
    "zmax=[20;20;8*pi]\n",
    "zmin=[-20;-20;-8*pi]\n",
    "T = 5 # MPC horizon\n",
    "umax=[10;100;8*pi]\n",
    "umin=[-umax[1];L/tan(delta_max)-eps;-umax[3]]\n",
    "dt=100\n",
    "\n",
    "print(umin[2])\n",
    "# MPC\n",
    "u_vec, z_vec= solveMPC(L,width,n,m,T,z0,zT,zmin,zmax,umin,umax,dt,obs,eps)\n",
    "\n"
   ]
  },
  {
   "cell_type": "markdown",
   "metadata": {},
   "source": [
    "###Next cell plots the parking manouver"
   ]
  },
  {
   "cell_type": "code",
   "execution_count": 1,
   "metadata": {
    "collapsed": false
   },
   "outputs": [
    {
     "ename": "LoadError",
     "evalue": "@pyimport not defined\nwhile loading In[1], in expression starting on line 2",
     "output_type": "error",
     "traceback": [
      "@pyimport not defined\nwhile loading In[1], in expression starting on line 2",
      ""
     ]
    }
   ],
   "source": [
    "@pyimport matplotlib.pyplot as plt\n",
    "print(z_vec[:,[end]])\n",
    "\n",
    "#Find Axis Limits\n",
    "xmin = minimum([z_vec[1,:]])\n",
    "xmax = maximum([z_vec[1,:]])\n",
    "xmin, xmax = xmin - 0.1(xmax-xmin), xmax+ 0.1*(xmax-xmin)\n",
    "ymin = minimum([z_vec[2,:]])\n",
    "ymax = maximum([z_vec[2,:]])\n",
    "ymin, ymax = ymin - 0.1(ymax-ymin), ymax+ 0.1*(ymax-ymin)\n",
    "\n",
    "function plot_car(x,y,psi,beta,l,w,pt)\n",
    "    A=[x+l*cos(psi)+w*sin(psi),y+l*sin(psi)-w*cos(psi)]\n",
    "    B=[x-l*cos(psi)+w*sin(psi),y-l*sin(psi)-w*cos(psi)]\n",
    "    C=[x+l*cos(psi)-w*sin(psi),y+l*sin(psi)+w*cos(psi)]\n",
    "    D=[x-l*cos(psi)-w*sin(psi),y-l*sin(psi)+w*cos(psi)]\n",
    "    #wheels\n",
    "    lw=0.4\n",
    "    E=[A[1]+lw*cos(psi+beta),A[2]+lw*sin(psi+beta)]\n",
    "    F=[C[1]+lw*cos(psi+beta),C[2]+lw*sin(psi+beta)]\n",
    "    \n",
    "    pt.plot([B[1] ,A[1]],[B[2], A[2]],\"bo-\")\n",
    "    pt.plot([C[1] ,D[1]],[C[2], D[2]],\"bo-\")\n",
    "    pt.plot([C[1] ,A[1]],[C[2], A[2]],\"bo-\")\n",
    "    pt.plot([B[1] ,D[1]],[B[2], D[2]],\"bo-\")\n",
    "    pt.plot([A[1] ,E[1]],[A[2], E[2]],\"go-\")\n",
    "    pt.plot([C[1] ,F[1]],[C[2], F[2]],\"go-\")\n",
    "end\n",
    "\n",
    "\n",
    "#Construct Figure and Plot Data\n",
    "fig = figure()\n",
    "ax = plt.axes()\n",
    "ax = plt.axes(xlim = (-20,20),ylim=(-2,20))\n",
    "#ax = plt.axes(xlim = (xmin,xmax),ylim=(ymin,ymax))\n",
    "plt.plot(transpose(z_vec[1,:]),transpose(z_vec[2,:]), \"r-\")\n",
    "\n",
    "#Plot sow in TIME\n",
    "for i=1:1:T\n",
    "    plot_car(z_vec[1,i],z_vec[2,i],z_vec[3,i],u_vec[1,i],l,width,plt)\n",
    "end\n",
    "plot_car(z_vec[1,[end]],z_vec[2,[end]],z_vec[3,[end]],u_vec[1,[end]],l,width,plt)\n",
    "\n",
    "\n",
    "\n",
    "##end#Plot in SPACE\n",
    "#NtP=6\n",
    "#u_history = zeros(m,NtP*Tsim)\n",
    "#z_history = zeros(n,NtP*Tsim)\n",
    "#k=1\n",
    "#for i=1:T\n",
    "#    z_t=z_vec[:,i]\n",
    "#    u_t=u_vec[:,i]\n",
    "#    ddt=0.#5\n",
    " #   for j=0:ddt:dt\n",
    "#        plot_car(z_t[1],z_t[2],z_t[3],u_t[1],l,width,plt)\n",
    "#        z_history[:,k] = z_t[:]\n",
    " #       u_history[:,k] = u_t[:]\n",
    " #       z_t = z_t + ddt*zdot_fun(z_t,u_t,l)\n",
    " #       k=k+1\n",
    " #   en#d\n",
    "#end\n",
    "plt.plot([obs[1] ,obs[1]],[0, obs[3]],\"r-\")\n",
    "plt.plot([obs[2] ,obs[2]],[0, obs[3]],\"r-\")\n",
    "plt.plot([-20 ,obs[1]],[obs[3], obs[3]],\"r-\")\n",
    "plt.plot([obs[2] ,20],[obs[3], obs[3]],\"r-\")\n",
    "plt.plot([-20 ,20],[zmax[2]+1, zmax[2]+1],\"r-\")\n",
    "plt.show()\n",
    "\n",
    "\n",
    "#Plot start and end points\n",
    "#ax[:plot](z_vec[1,1],z_vec[2,1], \"ro\")\n",
    "#ax[:plot](z_vec[1,end],z_vec[2,end], \"rs\")"
   ]
  },
  {
   "cell_type": "markdown",
   "metadata": {},
   "source": [
    "### Next makes a video of the manouver"
   ]
  },
  {
   "cell_type": "code",
   "execution_count": 9,
   "metadata": {
    "collapsed": false
   },
   "outputs": [
    {
     "ename": "LoadError",
     "evalue": "key not found: \"Rectangle\"\nwhile loading In[9], in expression starting on line 23",
     "output_type": "error",
     "traceback": [
      "key not found: \"Rectangle\"\nwhile loading In[9], in expression starting on line 23",
      "",
      " in getindex at C:\\Users\\Francesco\\.julia\\v0.3\\PyCall\\src\\PyCall.jl:246 (repeats 2 times)"
     ]
    }
   ],
   "source": [
    "#Pkg.add(\"PyPlot\")\n",
    "#Pkg.add(\"PyCall\")\n",
    "#Pkg.add(\"VideoIO\")\n",
    "using PyPlot\n",
    "using PyCall\n",
    "@pyimport matplotlib.animation as anim\n",
    "\n",
    "\n",
    "pygui(true)\n",
    "\n",
    "# First set up the figure, the axis, and the plot element we want to animate\n",
    "fig = figure()\n",
    "#ax = plt.axes(xlim = (xmin,xmax),ylim=(ymin,ymax))\n",
    "#ax = plt.axes(xlim=(-10, 5), ylim=(-2, 10))\n",
    "ax = plt.axes(xlim=(-5, 5), ylim=(-0, 10))\n",
    "#ax2 = plt.axes()\n",
    "global line1 = ax[:plot]([], [], \"ro-\")[1]\n",
    "global line2 = ax[:plot]([], [], \"ro-\")[1]\n",
    "global line3 = ax[:plot]([], [], \"ro-\")[1]\n",
    "global line4 = ax[:plot]([], [], \"ro-\")[1]\n",
    "global line5 = ax[:plot]([], [], \"go-\")[1]\n",
    "global line6 = ax[:plot]([], [], \"go-\")[1]\n",
    "ax[:plot]([obs[1] ,obs[1]],[0, obs[3]],\"r-\")\n",
    "ax[:plot]([obs[2] ,obs[2]],[0, obs[3]],\"r-\")\n",
    "ax[:plot]([-20 ,obs[1]],[obs[3], obs[3]],\"r-\")\n",
    "ax[:plot]([obs[2] ,20],[obs[3], obs[3]],\"r-\")\n",
    "ax[:plot]([-20 ,20],[zmax[2]+1, zmax[2]+1],\"r-\")\n",
    "#plt.plot([-3 ,-3],[-3, 0],\"r-\")\n",
    "#plt.plot([3 ,3],[-3, 0],\"r-\")\n",
    "#plt.plot([-10 ,-3],[0, 0],\"r-\")\n",
    "#plt.plot([3 ,15],[0, 0],\"r-\")\n",
    "\n",
    "function points_car(x,y,psi,beta,l,w)\n",
    "    A=[x+l*cos(psi)+w*sin(psi),y+l*sin(psi)-w*cos(psi)]\n",
    "    B=[x-l*cos(psi)+w*sin(psi),y-l*sin(psi)-w*cos(psi)]\n",
    "    C=[x+l*cos(psi)-w*sin(psi),y+l*sin(psi)+w*cos(psi)]\n",
    "    D=[x-l*cos(psi)-w*sin(psi),y-l*sin(psi)+w*cos(psi)]\n",
    "    #wheels\n",
    "    lw=0.6\n",
    "    E=[A[1]+lw/2*cos(psi+beta),A[2]+lw/2*sin(psi+beta)]\n",
    "    F=[C[1]+lw/2*cos(psi+beta),C[2]+lw/2*sin(psi+beta)]\n",
    "    G=[A[1]-lw/2*cos(psi+beta),A[2]-lw/2*sin(psi+beta)]\n",
    "    H=[C[1]-lw/2*cos(psi+beta),C[2]-lw/2*sin(psi+beta)]\n",
    "    return A,B,C,D,E,F,G,H\n",
    "end\n",
    " \n",
    "\n",
    "# initialization function: plot the background of each frame\n",
    "function init()\n",
    "    global line1\n",
    "    global line2\n",
    "    global line3\n",
    "    global line4\n",
    "    global line5\n",
    "    global line6\n",
    "    global line7\n",
    "    line1[:set_data]([], [])\n",
    "    line2[:set_data]([], [])\n",
    "    line3[:set_data]([], [])\n",
    "    line4[:set_data]([], [])\n",
    "    line5[:set_data]([], [])\n",
    "    line6[:set_data]([], [])\n",
    "    return (line1,line2,line3,line4,line5,line6,None)\n",
    "end\n",
    "\n",
    "# animation function.  This is called sequentially\n",
    "function animate(i)\n",
    "    k=i+1\n",
    "    global line1\n",
    "    global line2\n",
    "    global line3\n",
    "    global line4\n",
    "    global line5\n",
    "    global line6\n",
    "    global line7\n",
    "    if k<=T\n",
    "        A,B,C,D,E,F,G,H=points_car(z_vec[1,k],z_vec[2,k],z_vec[3,k],u_vec[1,k],l,width)\n",
    "    else\n",
    "        A,B,C,D,E,F,G,H=points_car(z_vec[1,T],z_vec[2,T],z_vec[3,T],u_vec[1,T],l,width)\n",
    "    end\n",
    "    line1[:set_data]([B[1] ,A[1]],[B[2], A[2]])\n",
    "    line2[:set_data]([C[1] ,D[1]],[C[2], D[2]])\n",
    "    line3[:set_data]([C[1] ,A[1]],[C[2], A[2]])\n",
    "    line4[:set_data]([B[1] ,D[1]],[B[2], D[2]])\n",
    "    line5[:set_data]([G[1] ,E[1]],[G[2], E[2]])\n",
    "    line6[:set_data]([H[1] ,F[1]],[H[2], F[2]])\n",
    "    return (line1,line2,line3,line4,line5,line6,None)\n",
    "end\n",
    "\n",
    "\n",
    "# call the animator.  blit=True means only re-draw the parts that have changed.\n",
    "myanim = anim.FuncAnimation(fig, animate, init_func=init, frames=T+20,  interval=100,)\n",
    "myanim[:save](\"parking.mp4\", writer=\"ffmpeg\",  extra_args=[\"-vcodec\", \"libx264\"])\n",
    "myanim[:save](\"parking2.mp4\", extra_args=[\"-vcodec\", \"libx264\", \"-pix_fmt\", \"yuv420p\"])\n"
   ]
  },
  {
   "cell_type": "code",
   "execution_count": null,
   "metadata": {
    "collapsed": false
   },
   "outputs": [],
   "source": []
  },
  {
   "cell_type": "code",
   "execution_count": null,
   "metadata": {
    "collapsed": false
   },
   "outputs": [],
   "source": []
  },
  {
   "cell_type": "code",
   "execution_count": null,
   "metadata": {
    "collapsed": false
   },
   "outputs": [],
   "source": []
  }
 ],
 "metadata": {
  "kernelspec": {
   "display_name": "Julia 0.3.8",
   "language": "julia",
   "name": "julia-0.3"
  },
  "language_info": {
   "name": "julia",
   "version": "0.3.8"
  }
 },
 "nbformat": 4,
 "nbformat_minor": 0
}
