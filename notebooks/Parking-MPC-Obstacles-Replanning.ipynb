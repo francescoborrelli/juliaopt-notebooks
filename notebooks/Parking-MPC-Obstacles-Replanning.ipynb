{
 "cells": [
  {
   "cell_type": "markdown",
   "metadata": {},
   "source": [
    "## Parking Controller via MPC with Obstacles"
   ]
  },
  {
   "cell_type": "markdown",
   "metadata": {},
   "source": [
    "###System dynamics:\n",
    "\\begin{align}\n",
    "\\dot{x}\t&=&\tVcos(\\phi+\\beta)\\\\\n",
    "\\dot{y}\t&=&\tVsin(\\phi+\\beta)\\\\\n",
    "\\dot{\\phi}\t&=&\tV/l sin(\\beta)\\\\\n",
    "\\dot{V}\t&=&\ta\n",
    "\\end{align}\n",
    "Here $a$ is the center of mass acceleration\n",
    "$z = [x,y,\\phi,V]$, $u = [\\beta, a]$\n"
   ]
  },
  {
   "cell_type": "code",
   "execution_count": 15,
   "metadata": {
    "collapsed": false
   },
   "outputs": [
    {
     "data": {
      "text/plain": [
       "solveMPC (generic function with 1 method)"
      ]
     },
     "execution_count": 15,
     "metadata": {},
     "output_type": "execute_result"
    }
   ],
   "source": [
    "#Pkg.add(\"JuMP\"); Pkg.add(\"Ipopt\"); Pkg.add(\"Gadfly\"); Pkg.add(\"Interact\")\n",
    "#Pkg.checkout(\"JuMP\") # need latest master for matrices\n",
    "using JuMP, Ipopt\n",
    "using PyPlot\n",
    "#using ODE\n",
    "using PyCall\n",
    "\n",
    "function solveMPC(l,w,n,m,T,z0,zT,zmin,zmax,umax,dt,Nb)\n",
    "    mpc = Model(solver=IpoptSolver(print_level=0))\n",
    "    @defVar(mpc,  zmin[i] <= z[i=1:n,t=0:T] <= zmax[i])\n",
    "    @defVar(mpc, -umax[i] <= u[i=1:m,t=0:T] <= umax[i])\n",
    "    # Cost\n",
    "    #@setObjective(mpc, Min,\n",
    "    #    sum{100*(z[1,t]+z[2,t]+z[3,t]+z[4,t])^2 + sum{u[j,t]^2,j=1:m},t=0:T})\n",
    "    @setObjective(mpc, Min,\n",
    "    sum{(z[1,T]-zT[1])^2+(z[2,T]-zT[2])^2+100*(z[3,T]-zT[3])^2+(z[4,T]-zT[4])^2,t=T-4:T})\n",
    "    \n",
    "    # Link state and control across the horizon\n",
    "    for t = 0:T-1        \n",
    "        @addNLConstraint(mpc, z[1,t+1] == z[1,t] + dt*z[4,t]*cos(z[3,t]+u[1,t]))\n",
    "        @addNLConstraint(mpc, z[2,t+1] == z[2,t] + dt*z[4,t]*sin(z[3,t]+u[1,t]))\n",
    "        @addNLConstraint(mpc, z[3,t+1] == z[3,t] + dt*z[4,t]/l*sin(u[1,t]))\n",
    "        @addNLConstraint(mpc, z[4,t+1] == z[4,t] + dt*u[2,t])\n",
    "        # Blocking Move (quick/dirty version)\n",
    "        if (t>0) && (rem(t,Nb)!=0)\n",
    "            #print(\"-Added BL move constraint-\")\n",
    "            @addConstraint(mpc, u[:,t] .== u[:,t-1])\n",
    "        end\n",
    "    end\n",
    "\n",
    "    # Obstacle avoidance constraints \n",
    "    if 1<0\n",
    "        @defVar(mpc, lambda[i=1:16,t=0:T] >= 0)\n",
    "        #for t = 0:Nb:T-1 \n",
    "        for t = 0:T-1 \n",
    "            # Four corners of the car\n",
    "            #A=[x+l*cos(psi)+w*sin(psi),y+l*sin(psi)-w*cos(psi)]\n",
    "            #B=[x-l*cos(psi)+w*sin(psi),y-l*sin(psi)-w*cos(psi)]\n",
    "            #C=[x+l*cos(psi)-w*sin(psi),y+l*sin(psi)+w*cos(psi)]\n",
    "            #D=[x-l*cos(psi)-w*sin(psi),y-l*sin(psi)+w*cos(psi)]\n",
    "\n",
    "            #To be parametrized later : parallel parking bay with two obstacles\n",
    "            # x>=xl OR y-yt>=0 \n",
    "            # x<=xr OR y-yt>=0 \n",
    "            # Evaluated at A,B,C,D\n",
    "            xl=-3.5\n",
    "            xr=3.5\n",
    "            yt=3\n",
    "\n",
    "            @addNLConstraint(mpc, lambda[1,t]*(z[1,t]+l*cos(z[3,t])+w*sin(z[3,t])-xl)+lambda[2,t]*(z[2,t]+l*sin(z[3,t])-w*cos(z[3,t])-yt) >=0)\n",
    "            @addConstraint(mpc, lambda[1,t]+lambda[2,t] == 1)\n",
    "            @addNLConstraint(mpc, lambda[3,t]*(z[1,t]-l*cos(z[3,t])+w*sin(z[3,t])-xl)+lambda[4,t]*(z[2,t]-l*sin(z[3,t])-w*cos(z[3,t])-yt) >=0)\n",
    "            @addConstraint(mpc, lambda[3,t]+lambda[4,t] == 1)\n",
    "            @addNLConstraint(mpc, lambda[5,t]*(z[1,t]+l*cos(z[3,t])-w*sin(z[3,t])-xl)+lambda[6,t]*(z[2,t]+l*sin(z[3,t])+w*cos(z[3,t])-yt) >=0)\n",
    "            @addConstraint(mpc, lambda[5,t]+lambda[6,t] == 1)\n",
    "            @addNLConstraint(mpc, lambda[7,t]*(z[1,t]-l*cos(z[3,t])-w*sin(z[3,t])-xl)+lambda[8,t]*(z[2,t]-l*sin(z[3,t])+w*cos(z[3,t])-yt) >=0)\n",
    "            @addConstraint(mpc, lambda[7,t]+lambda[8,t] == 1)\n",
    "\n",
    "            @addNLConstraint(mpc, lambda[9,t]*(-(z[1,t]+l*cos(z[3,t])+w*sin(z[3,t]))+xr)+lambda[10,t]*(z[2,t]+l*sin(z[3,t])-w*cos(z[3,t])-yt) >=0)\n",
    "            @addConstraint(mpc, lambda[9,t]+lambda[10,t] == 1)\n",
    "            @addNLConstraint(mpc, lambda[11,t]*(-(z[1,t]-l*cos(z[3,t])+w*sin(z[3,t]))+xr)+lambda[12,t]*(z[2,t]-l*sin(z[3,t])-w*cos(z[3,t])-yt) >=0)\n",
    "            @addConstraint(mpc, lambda[11,t]+lambda[12,t] == 1)\n",
    "            @addNLConstraint(mpc, lambda[13,t]*(-(z[1,t]+l*cos(z[3,t])-w*sin(z[3,t]))+xr)+lambda[14,t]*(z[2,t]+l*sin(z[3,t])+w*cos(z[3,t])-yt) >=0)\n",
    "            @addConstraint(mpc, lambda[13,t]+lambda[14,t] == 1)\n",
    "            @addNLConstraint(mpc, lambda[15,t]*(-(z[1,t]-l*cos(z[3,t])-w*sin(z[3,t]))+xr)+lambda[16,t]*(z[2,t]-l*sin(z[3,t])+w*cos(z[3,t])-yt) >=0)\n",
    "            @addConstraint(mpc, lambda[15,t]+lambda[16,t] == 1)\n",
    "\n",
    "        end\n",
    "    end\n",
    "\n",
    "    # Initial conditions\n",
    "    @addConstraint(mpc, z[:,0] .== z0)\n",
    "    # Final state\n",
    "    #@addConstraint(mpc, z[:,T] .== zT)\n",
    "    # Solve the NLP\n",
    "    solve(mpc)\n",
    "    # Return the control plan\n",
    "    # return getValue(u[:,0])\n",
    "    #return getValue(u[:,0]), getValue(z[:,1])\n",
    "    return getValue(u), getValue(z)\n",
    "end"
   ]
  },
  {
   "cell_type": "code",
   "execution_count": 16,
   "metadata": {
    "collapsed": false
   },
   "outputs": [
    {
     "data": {
      "text/plain": [
       "simulate_car_MPC (generic function with 2 methods)"
      ]
     },
     "execution_count": 16,
     "metadata": {},
     "output_type": "execute_result"
    }
   ],
   "source": [
    "function zdot_fun(z,u,l)\n",
    "    beta=u[1]\n",
    "    a=u[2]\n",
    "    phi=z[3]\n",
    "    V=z[4]\n",
    "    xdot=V*cos(phi+beta)\n",
    "    ydot=V*sin(phi+beta)\n",
    "    phidot=V/l*sin(beta)\n",
    "    Vdot=a                      \n",
    "    zdot = [xdot;ydot;phidot;Vdot]\n",
    "    return zdot\n",
    "end\n",
    "\n",
    "\n",
    "function simulate_car_MPC(T,Tsim,Tr,z0,zT,zmin,zmax,umax,l,w,n,m,dt,Nb)\n",
    "    u_history = zeros(m,Tsim)\n",
    "    z_history = zeros(n,Tsim)\n",
    "    z_t = z0[:]\n",
    "    for t = 0:Tr:Tsim-1\n",
    "        # SHRINKING HORIZON MPC\n",
    "        u_vec, z_vec= solveMPC(l,w,n,m,T-t,z_t,zT,zmin,zmax,umax,dt,Nb)\n",
    "        print(\"-MPC solved-\")\n",
    "        for k = 1:min(Tr,length(u_vec))\n",
    "              u_t=u_vec[:,k]\n",
    "              z_history[:,t+k] = z_t[:]\n",
    "              u_history[:,t+k] = u_t[:]\n",
    "              z_t = z_t + dt*zdot_fun(z_t,u_t,l)\n",
    "        end\n",
    "    end\n",
    "    return  u_history, z_history\n",
    "end\n",
    "\n"
   ]
  },
  {
   "cell_type": "markdown",
   "metadata": {},
   "source": [
    "### Run Simulations"
   ]
  },
  {
   "cell_type": "code",
   "execution_count": 17,
   "metadata": {
    "collapsed": false
   },
   "outputs": [
    {
     "name": "stdout",
     "output_type": "stream",
     "text": [
      "-MPC solved--MPC solved--MPC solved--MPC solved--MPC solved--MPC solved-"
     ]
    },
    {
     "data": {
      "text/plain": [
       "(\n",
       "2x600 Array{Float64,2}:\n",
       " -0.0152028  -0.0297301  -0.043508  …  0.334036     0.417404     0.0\n",
       "  0.191318    0.188544    0.18565      0.00977255  -0.000619099  0.0,\n",
       "\n",
       "4x600 Array{Float64,2}:\n",
       " -15.0  -15.0        -14.9924       …  1.5328   0.921008  0.332483\n",
       "   6.0    6.0          5.99977         2.02689  1.96864   1.7903  \n",
       "   0.0    0.0         -0.000130887     2.90249  3.01842   3.16186 \n",
       "   0.0    0.0382636    0.0759725       3.0728   3.07476   3.07463 )"
      ]
     },
     "execution_count": 17,
     "metadata": {},
     "output_type": "execute_result"
    }
   ],
   "source": [
    "#Car Lengths to be fixed later\n",
    "#l = 1.91 \n",
    "#lf=1.91\n",
    "l = 1.738\n",
    "lr=3\n",
    "width=0.93\n",
    "#width_bay = 6.00\n",
    "#height_bay = 2.5\n",
    "\n",
    "\n",
    "T = 600 # MPC horizon\n",
    "dt=0.2\n",
    "Nb=1\n",
    "#Nb=4 # blocking move\n",
    "\n",
    "Tsim = T  # Length of time we simulate\n",
    "Treplanning = 100  \n",
    "\n",
    "#Case 1\n",
    "#z0 = [6;6;pi;0]  \n",
    "#zT = [0;-1.1;0;0]  \n",
    "\n",
    "#Case 2\n",
    "#z0 = [6;6;pi;0]  \n",
    "#zT = [0;-1.1;pi;0] \n",
    "\n",
    "#Case 3\n",
    "z0 = [-15;16;0;0]  \n",
    "zT = [0;1.5;0;0]  \n",
    "\n",
    "#Case 3\n",
    "#z0 = [-15;6;0;0]  \n",
    "#zT = [0;1.5;0;0]  \n",
    "\n",
    "#Case 3\n",
    "z0 = [-15;6;0;0]  \n",
    "zT = [0;1.5;pi;0]  \n",
    "\n",
    "zmax=[20;20;pi;10]\n",
    "zmin=[-20;0;-pi;-10]\n",
    "zmin=[-20;-20;-pi;-10]\n",
    "umax=[0.6;1.5*dt]\n",
    "n=4\n",
    "m=2\n",
    "\n",
    "# Closed- Loop MPC, NOT TESTED FOR NOW\n",
    "u_vec,z_vec = simulate_car_MPC(T,Tsim,Treplanning,z0,zT,zmin,zmax,umax,l,width,n,m,dt,Nb)\n",
    "\n",
    "# Open Loop MPC\n",
    "#u_vec, z_vec= solveMPC(l,width,n,m,T,z0,zT,zmin,zmax,umax,dt,Nb)\n",
    "\n",
    "\n",
    "\n"
   ]
  },
  {
   "cell_type": "markdown",
   "metadata": {},
   "source": [
    "###Next cell plots the parking manouver"
   ]
  },
  {
   "cell_type": "code",
   "execution_count": 18,
   "metadata": {
    "collapsed": false,
    "scrolled": true
   },
   "outputs": [
    {
     "name": "stdout",
     "output_type": "stream",
     "text": [
      "[0.3324833747662025\n",
      " 1.7903010700683677\n",
      " 3.1618562855332812\n",
      " 3.0746328710907904]"
     ]
    }
   ],
   "source": [
    "@pyimport matplotlib.pyplot as plt\n",
    "print(z_vec[:,[end]])\n",
    "\n",
    "#Find Axis Limits\n",
    "xmin = minimum([z_vec[1,:]])\n",
    "xmax = maximum([z_vec[1,:]])\n",
    "xmin, xmax = xmin - 0.1(xmax-xmin), xmax+ 0.1*(xmax-xmin)\n",
    "ymin = minimum([z_vec[2,:]])\n",
    "ymax = maximum([z_vec[2,:]])\n",
    "ymin, ymax = ymin - 0.1(ymax-ymin), ymax+ 0.1*(ymax-ymin)\n",
    "\n",
    "function plot_car(x,y,psi,beta,l,w,pt)\n",
    "    A=[x+l*cos(psi)+w*sin(psi),y+l*sin(psi)-w*cos(psi)]\n",
    "    B=[x-l*cos(psi)+w*sin(psi),y-l*sin(psi)-w*cos(psi)]\n",
    "    C=[x+l*cos(psi)-w*sin(psi),y+l*sin(psi)+w*cos(psi)]\n",
    "    D=[x-l*cos(psi)-w*sin(psi),y-l*sin(psi)+w*cos(psi)]\n",
    "    #wheels\n",
    "    lw=0.4\n",
    "    E=[A[1]+lw*cos(psi+beta),A[2]+lw*sin(psi+beta)]\n",
    "    F=[C[1]+lw*cos(psi+beta),C[2]+lw*sin(psi+beta)]\n",
    "    \n",
    "    pt.plot([B[1] ,A[1]],[B[2], A[2]],\"bo-\")\n",
    "    pt.plot([C[1] ,D[1]],[C[2], D[2]],\"bo-\")\n",
    "    pt.plot([C[1] ,A[1]],[C[2], A[2]],\"bo-\")\n",
    "    pt.plot([B[1] ,D[1]],[B[2], D[2]],\"bo-\")\n",
    "    pt.plot([A[1] ,E[1]],[A[2], E[2]],\"go-\")\n",
    "    pt.plot([C[1] ,F[1]],[C[2], F[2]],\"go-\")\n",
    "end\n",
    "\n",
    "\n",
    "#Construct Figure and Plot Data\n",
    "fig = figure()\n",
    "ax = plt.axes()\n",
    "ax = plt.axes(xlim = (-20,20),ylim=(-2,20))\n",
    "#ax = plt.axes(xlim = (xmin,xmax),ylim=(ymin,ymax))\n",
    "plt.plot(transpose(z_vec[1,:]),transpose(z_vec[2,:]), \"r-\")\n",
    "\n",
    "#Plot sow in TIME\n",
    "for i=1:T\n",
    "    plot_car(z_vec[1,i],z_vec[2,i],z_vec[3,i],u_vec[1,i],l,width,plt)\n",
    "end\n",
    "\n",
    "\n",
    "\n",
    "##end#Plot in SPACE\n",
    "#NtP=6\n",
    "#u_history = zeros(m,NtP*Tsim)\n",
    "#z_history = zeros(n,NtP*Tsim)\n",
    "#k=1\n",
    "#for i=1:T\n",
    "#    z_t=z_vec[:,i]\n",
    "#    u_t=u_vec[:,i]\n",
    "#    ddt=0.#5\n",
    " #   for j=0:ddt:dt\n",
    "#        plot_car(z_t[1],z_t[2],z_t[3],u_t[1],l,width,plt)\n",
    "#        z_history[:,k] = z_t[:]\n",
    " #       u_history[:,k] = u_t[:]\n",
    " #       z_t = z_t + ddt*zdot_fun(z_t,u_t,l)\n",
    " #       k=k+1\n",
    " #   en#d\n",
    "#end\n",
    "plt.plot([-3.5 ,-3.5],[0, 3],\"r-\")\n",
    "plt.plot([3.5 ,3.5],[0, 3],\"r-\")\n",
    "plt.plot([-20 ,-3.5],[3, 3],\"r-\")\n",
    "plt.plot([3.5 ,20],[3, 3],\"r-\")\n",
    "plt.show()\n",
    "\n",
    "\n",
    "#Plot start and end points\n",
    "#ax[:plot](z_vec[1,1],z_vec[2,1], \"ro\")\n",
    "#ax[:plot](z_vec[1,end],z_vec[2,end], \"rs\")"
   ]
  },
  {
   "cell_type": "markdown",
   "metadata": {},
   "source": [
    "### Next makes a video of the manouver"
   ]
  },
  {
   "cell_type": "code",
   "execution_count": 21,
   "metadata": {
    "collapsed": false
   },
   "outputs": [
    {
     "data": {
      "text/plain": [
       "PyObject <matplotlib.animation.FuncAnimation object at 0x0000000041172D30>"
      ]
     },
     "execution_count": 21,
     "metadata": {},
     "output_type": "execute_result"
    }
   ],
   "source": [
    "#Pkg.add(\"PyPlot\")\n",
    "#Pkg.add(\"PyCall\")\n",
    "#Pkg.add(\"VideoIO\")\n",
    "using PyPlot\n",
    "using PyCall\n",
    "@pyimport matplotlib.animation as anim\n",
    "\n",
    "pygui(true)\n",
    "\n",
    "# First set up the figure, the axis, and the plot element we want to animate\n",
    "fig = figure()\n",
    "#ax = plt.axes(xlim = (xmin,xmax),ylim=(ymin,ymax))\n",
    "#ax = plt.axes(xlim=(-10, 5), ylim=(-2, 10))\n",
    "ax = plt.axes(xlim=(-20, 20), ylim=(-0, 20))\n",
    "#ax2 = plt.axes()\n",
    "global line1 = ax[:plot]([], [], \"ro-\")[1]\n",
    "global line2 = ax[:plot]([], [], \"ro-\")[1]\n",
    "global line3 = ax[:plot]([], [], \"ro-\")[1]\n",
    "global line4 = ax[:plot]([], [], \"ro-\")[1]\n",
    "global line5 = ax[:plot]([], [], \"go-\")[1]\n",
    "global line6 = ax[:plot]([], [], \"go-\")[1]\n",
    "\n",
    "# To plot parking bay.. do not have time\n",
    "#global line7 = ax[:plot]([-3 ,-3],[-3, 0],\"r-\")\n",
    "#plt.plot([-3 ,-3],[-3, 0],\"r-\")\n",
    "#plt.plot([3 ,3],[-3, 0],\"r-\")\n",
    "#plt.plot([-10 ,-3],[0, 0],\"r-\")\n",
    "#plt.plot([3 ,15],[0, 0],\"r-\")\n",
    "\n",
    "function points_car(x,y,psi,beta,l,w)\n",
    "    A=[x+l*cos(psi)+w*sin(psi),y+l*sin(psi)-w*cos(psi)]\n",
    "    B=[x-l*cos(psi)+w*sin(psi),y-l*sin(psi)-w*cos(psi)]\n",
    "    C=[x+l*cos(psi)-w*sin(psi),y+l*sin(psi)+w*cos(psi)]\n",
    "    D=[x-l*cos(psi)-w*sin(psi),y-l*sin(psi)+w*cos(psi)]\n",
    "    #wheels\n",
    "    lw=0.4\n",
    "    E=[A[1]+lw*cos(psi+beta),A[2]+lw*sin(psi+beta)]\n",
    "    F=[C[1]+lw*cos(psi+beta),C[2]+lw*sin(psi+beta)]\n",
    "    return A,B,C,D,E,F\n",
    "end\n",
    " \n",
    "\n",
    "# initialization function: plot the background of each frame\n",
    "function init()\n",
    "    global line1\n",
    "    global line2\n",
    "    global line3\n",
    "    global line4\n",
    "    global line5\n",
    "    global line6\n",
    "    line1[:set_data]([], [])\n",
    "    line2[:set_data]([], [])\n",
    "    line3[:set_data]([], [])\n",
    "    line4[:set_data]([], [])\n",
    "    line5[:set_data]([], [])\n",
    "    line6[:set_data]([], [])\n",
    "    return (line1,line2,line3,line4,line5,line6,None)\n",
    "end\n",
    "\n",
    "# animation function.  This is called sequentially\n",
    "function animate(i)\n",
    "    k=i+1\n",
    "    global line1\n",
    "    global line2\n",
    "    global line3\n",
    "    global line4\n",
    "    global line5\n",
    "    global line6\n",
    "    A,B,C,D,E,F=points_car(z_vec[1,k],z_vec[2,k],z_vec[3,k],u_vec[1,k],l,width)\n",
    "    line1[:set_data]([B[1] ,A[1]],[B[2], A[2]])\n",
    "    line2[:set_data]([C[1] ,D[1]],[C[2], D[2]])\n",
    "    line3[:set_data]([C[1] ,A[1]],[C[2], A[2]])\n",
    "    line4[:set_data]([B[1] ,D[1]],[B[2], D[2]])\n",
    "    line5[:set_data]([A[1] ,E[1]],[A[2], E[2]])\n",
    "    line6[:set_data]([C[1] ,F[1]],[C[2], F[2]])\n",
    "    return (line1,line2,line3,line4,line5,line6,None)\n",
    "end\n",
    "\n",
    "# call the animator.  blit=True means only re-draw the parts that have changed.\n",
    "myanim = anim.FuncAnimation(fig, animate, init_func=init, frames=T-1, interval=100)\n",
    "#myanim[:save](\"./parking.mp4\")\n",
    "\n",
    "#myanim[:save](\"./parking.mp4\", extra_args=[\"-vcodec\", \"libx264\", \"-pix_fmt\", \"yuv420p\"])\n",
    "#myanim[:save](\"plots-julia/PyPlots-sinplot.mp4\", extra_args=[\"-vcodec\"])\n",
    "\n",
    "#myanim[:save](\"./sinplot.mp4\", extra_args=[\"-vcodec\", \"libx264\", \"-pix_fmt\", \"yuv420p\"])\n",
    "\n",
    "# call our new function to display the animation\n",
    "#display(\"text/html\", string(\"\"\"<video autoplay controls><source src=\"data:video/x-m4v;base64,\"\"\",\n",
    "#                            base64(open(readbytes,\"./sinplot.mp4\")),\"\"\"\" type=\"video/mp4\"></video>\"\"\"))"
   ]
  },
  {
   "cell_type": "code",
   "execution_count": null,
   "metadata": {
    "collapsed": true
   },
   "outputs": [],
   "source": []
  },
  {
   "cell_type": "code",
   "execution_count": null,
   "metadata": {
    "collapsed": true
   },
   "outputs": [],
   "source": []
  },
  {
   "cell_type": "code",
   "execution_count": null,
   "metadata": {
    "collapsed": true
   },
   "outputs": [],
   "source": []
  }
 ],
 "metadata": {
  "kernelspec": {
   "display_name": "Julia 0.3.8",
   "language": "julia",
   "name": "julia-0.3"
  },
  "language_info": {
   "name": "julia",
   "version": "0.3.8"
  }
 },
 "nbformat": 4,
 "nbformat_minor": 0
}
